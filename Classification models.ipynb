{
 "cells": [
  {
   "cell_type": "code",
   "execution_count": 11,
   "metadata": {},
   "outputs": [],
   "source": [
    "import pandas as pd\n",
    "import matplotlib.pyplot as plt\n",
    "import seaborn as sns\n",
    "import numpy as np\n",
    "from scipy.stats import chi2_contingency\n",
    "import warnings\n",
    "warnings.filterwarnings(\"ignore\")\n",
    "\n",
    "from sklearn.model_selection import train_test_split # Import train_test_split function\n",
    "from sklearn import metrics #Import scikit-learn metrics module for accuracy calculation\n",
    "from sklearn.preprocessing import OneHotEncoder\n",
    "from sklearn.preprocessing import LabelEncoder\n",
    "from sklearn.preprocessing import StandardScaler\n",
    "from sklearn.impute import SimpleImputer\n",
    "from sklearn.linear_model import LogisticRegression\n",
    "from sklearn.metrics import r2_score\n",
    "\n",
    "from sklearn import tree\n",
    "from sklearn.ensemble import RandomForestClassifier\n",
    "\n",
    "# from sklearn.ensemble import GradientBoostingClassifier\n",
    "# try: \n",
    "#     import lightgbm\n",
    "# except: \n",
    "#     import sys\n",
    "#     !conda install --yes --prefix {sys.prefix} lightgbm\n",
    "#     import lightgbm"
   ]
  },
  {
   "cell_type": "markdown",
   "metadata": {},
   "source": [
    "## Lectura de datos\n",
    "\n",
    "El primer paso después de importar las librerías es leer la base de datos que dejamos preparada en el submódulo 1.6. "
   ]
  },
  {
   "cell_type": "code",
   "execution_count": 2,
   "metadata": {},
   "outputs": [],
   "source": [
    "df = pd.read_csv('df_model.csv')\n",
    "target = 'est_socio'"
   ]
  },
  {
   "cell_type": "code",
   "execution_count": 3,
   "metadata": {},
   "outputs": [
    {
     "data": {
      "text/html": [
       "<div>\n",
       "<style scoped>\n",
       "    .dataframe tbody tr th:only-of-type {\n",
       "        vertical-align: middle;\n",
       "    }\n",
       "\n",
       "    .dataframe tbody tr th {\n",
       "        vertical-align: top;\n",
       "    }\n",
       "\n",
       "    .dataframe thead th {\n",
       "        text-align: right;\n",
       "    }\n",
       "</style>\n",
       "<table border=\"1\" class=\"dataframe\">\n",
       "  <thead>\n",
       "    <tr style=\"text-align: right;\">\n",
       "      <th></th>\n",
       "      <th>tipo_viv</th>\n",
       "      <th>mat_pared</th>\n",
       "      <th>mat_techos</th>\n",
       "      <th>mat_pisos</th>\n",
       "      <th>cocina</th>\n",
       "      <th>num_cuarto</th>\n",
       "      <th>disp_agua</th>\n",
       "      <th>excusado</th>\n",
       "      <th>combustible</th>\n",
       "      <th>regadera</th>\n",
       "      <th>...</th>\n",
       "      <th>conex_inte</th>\n",
       "      <th>num_auto</th>\n",
       "      <th>gasto_tri</th>\n",
       "      <th>ing_tri</th>\n",
       "      <th>atemed</th>\n",
       "      <th>alfabetism</th>\n",
       "      <th>trabajo_mp</th>\n",
       "      <th>Escasez de alimentos</th>\n",
       "      <th>Tipo de comunidad</th>\n",
       "      <th>est_socio</th>\n",
       "    </tr>\n",
       "  </thead>\n",
       "  <tbody>\n",
       "    <tr>\n",
       "      <th>0</th>\n",
       "      <td>Departamento en edificio</td>\n",
       "      <td>Tabique, ladrillo, block, piedra, cantera, cem...</td>\n",
       "      <td>Losa de concreto o viguetas con bovedilla</td>\n",
       "      <td>Madera, mosaico u otro recubrimiento</td>\n",
       "      <td>Sí</td>\n",
       "      <td>2.00</td>\n",
       "      <td>Agua entubada dentro de la vivienda</td>\n",
       "      <td>Sí</td>\n",
       "      <td>Gas de tanque</td>\n",
       "      <td>Sí</td>\n",
       "      <td>...</td>\n",
       "      <td>Sí</td>\n",
       "      <td>0.00</td>\n",
       "      <td>22693.22</td>\n",
       "      <td>16229.49</td>\n",
       "      <td>0.666667</td>\n",
       "      <td>1.00</td>\n",
       "      <td>0.333333</td>\n",
       "      <td>Sí</td>\n",
       "      <td>Urbano</td>\n",
       "      <td>Medio alto</td>\n",
       "    </tr>\n",
       "    <tr>\n",
       "      <th>1</th>\n",
       "      <td>Casa independiente</td>\n",
       "      <td>Tabique, ladrillo, block, piedra, cantera, cem...</td>\n",
       "      <td>Losa de concreto o viguetas con bovedilla</td>\n",
       "      <td>Madera, mosaico u otro recubrimiento</td>\n",
       "      <td>Sí</td>\n",
       "      <td>1.25</td>\n",
       "      <td>Agua entubada dentro de la vivienda</td>\n",
       "      <td>Sí</td>\n",
       "      <td>Gas natural o de tubería</td>\n",
       "      <td>Sí</td>\n",
       "      <td>...</td>\n",
       "      <td>Sí</td>\n",
       "      <td>0.25</td>\n",
       "      <td>18931.42</td>\n",
       "      <td>23827.86</td>\n",
       "      <td>0.500000</td>\n",
       "      <td>0.75</td>\n",
       "      <td>0.250000</td>\n",
       "      <td>Sí</td>\n",
       "      <td>Urbano</td>\n",
       "      <td>Medio alto</td>\n",
       "    </tr>\n",
       "    <tr>\n",
       "      <th>2</th>\n",
       "      <td>Casa independiente</td>\n",
       "      <td>Tabique, ladrillo, block, piedra, cantera, cem...</td>\n",
       "      <td>Losa de concreto o viguetas con bovedilla</td>\n",
       "      <td>Madera, mosaico u otro recubrimiento</td>\n",
       "      <td>Sí</td>\n",
       "      <td>1.50</td>\n",
       "      <td>Agua entubada dentro de la vivienda</td>\n",
       "      <td>Sí</td>\n",
       "      <td>Gas de tanque</td>\n",
       "      <td>Sí</td>\n",
       "      <td>...</td>\n",
       "      <td>Sí</td>\n",
       "      <td>0.50</td>\n",
       "      <td>44520.13</td>\n",
       "      <td>37421.77</td>\n",
       "      <td>0.500000</td>\n",
       "      <td>1.00</td>\n",
       "      <td>1.000000</td>\n",
       "      <td>No</td>\n",
       "      <td>Urbano</td>\n",
       "      <td>Medio alto</td>\n",
       "    </tr>\n",
       "    <tr>\n",
       "      <th>3</th>\n",
       "      <td>Casa independiente</td>\n",
       "      <td>Tabique, ladrillo, block, piedra, cantera, cem...</td>\n",
       "      <td>Losa de concreto o viguetas con bovedilla</td>\n",
       "      <td>Madera, mosaico u otro recubrimiento</td>\n",
       "      <td>Sí</td>\n",
       "      <td>2.50</td>\n",
       "      <td>Agua entubada dentro de la vivienda</td>\n",
       "      <td>Sí</td>\n",
       "      <td>Gas de tanque</td>\n",
       "      <td>Sí</td>\n",
       "      <td>...</td>\n",
       "      <td>Sí</td>\n",
       "      <td>0.00</td>\n",
       "      <td>76500.43</td>\n",
       "      <td>71557.37</td>\n",
       "      <td>0.500000</td>\n",
       "      <td>0.50</td>\n",
       "      <td>0.500000</td>\n",
       "      <td>No</td>\n",
       "      <td>Urbano</td>\n",
       "      <td>Medio alto</td>\n",
       "    </tr>\n",
       "    <tr>\n",
       "      <th>4</th>\n",
       "      <td>Casa independiente</td>\n",
       "      <td>Tabique, ladrillo, block, piedra, cantera, cem...</td>\n",
       "      <td>Losa de concreto o viguetas con bovedilla</td>\n",
       "      <td>Madera, mosaico u otro recubrimiento</td>\n",
       "      <td>Sí</td>\n",
       "      <td>2.00</td>\n",
       "      <td>Agua entubada dentro de la vivienda</td>\n",
       "      <td>Sí</td>\n",
       "      <td>Gas de tanque</td>\n",
       "      <td>Sí</td>\n",
       "      <td>...</td>\n",
       "      <td>Sí</td>\n",
       "      <td>0.50</td>\n",
       "      <td>30140.68</td>\n",
       "      <td>71803.26</td>\n",
       "      <td>1.000000</td>\n",
       "      <td>1.00</td>\n",
       "      <td>0.500000</td>\n",
       "      <td>No</td>\n",
       "      <td>Urbano</td>\n",
       "      <td>Medio alto</td>\n",
       "    </tr>\n",
       "  </tbody>\n",
       "</table>\n",
       "<p>5 rows × 26 columns</p>\n",
       "</div>"
      ],
      "text/plain": [
       "                   tipo_viv  \\\n",
       "0  Departamento en edificio   \n",
       "1        Casa independiente   \n",
       "2        Casa independiente   \n",
       "3        Casa independiente   \n",
       "4        Casa independiente   \n",
       "\n",
       "                                           mat_pared  \\\n",
       "0  Tabique, ladrillo, block, piedra, cantera, cem...   \n",
       "1  Tabique, ladrillo, block, piedra, cantera, cem...   \n",
       "2  Tabique, ladrillo, block, piedra, cantera, cem...   \n",
       "3  Tabique, ladrillo, block, piedra, cantera, cem...   \n",
       "4  Tabique, ladrillo, block, piedra, cantera, cem...   \n",
       "\n",
       "                                  mat_techos  \\\n",
       "0  Losa de concreto o viguetas con bovedilla   \n",
       "1  Losa de concreto o viguetas con bovedilla   \n",
       "2  Losa de concreto o viguetas con bovedilla   \n",
       "3  Losa de concreto o viguetas con bovedilla   \n",
       "4  Losa de concreto o viguetas con bovedilla   \n",
       "\n",
       "                              mat_pisos cocina  num_cuarto  \\\n",
       "0  Madera, mosaico u otro recubrimiento     Sí        2.00   \n",
       "1  Madera, mosaico u otro recubrimiento     Sí        1.25   \n",
       "2  Madera, mosaico u otro recubrimiento     Sí        1.50   \n",
       "3  Madera, mosaico u otro recubrimiento     Sí        2.50   \n",
       "4  Madera, mosaico u otro recubrimiento     Sí        2.00   \n",
       "\n",
       "                             disp_agua excusado               combustible  \\\n",
       "0  Agua entubada dentro de la vivienda       Sí             Gas de tanque   \n",
       "1  Agua entubada dentro de la vivienda       Sí  Gas natural o de tubería   \n",
       "2  Agua entubada dentro de la vivienda       Sí             Gas de tanque   \n",
       "3  Agua entubada dentro de la vivienda       Sí             Gas de tanque   \n",
       "4  Agua entubada dentro de la vivienda       Sí             Gas de tanque   \n",
       "\n",
       "  regadera  ... conex_inte num_auto  gasto_tri   ing_tri    atemed alfabetism  \\\n",
       "0       Sí  ...         Sí     0.00   22693.22  16229.49  0.666667       1.00   \n",
       "1       Sí  ...         Sí     0.25   18931.42  23827.86  0.500000       0.75   \n",
       "2       Sí  ...         Sí     0.50   44520.13  37421.77  0.500000       1.00   \n",
       "3       Sí  ...         Sí     0.00   76500.43  71557.37  0.500000       0.50   \n",
       "4       Sí  ...         Sí     0.50   30140.68  71803.26  1.000000       1.00   \n",
       "\n",
       "  trabajo_mp  Escasez de alimentos  Tipo de comunidad   est_socio  \n",
       "0   0.333333                    Sí             Urbano  Medio alto  \n",
       "1   0.250000                    Sí             Urbano  Medio alto  \n",
       "2   1.000000                    No             Urbano  Medio alto  \n",
       "3   0.500000                    No             Urbano  Medio alto  \n",
       "4   0.500000                    No             Urbano  Medio alto  \n",
       "\n",
       "[5 rows x 26 columns]"
      ]
     },
     "execution_count": 3,
     "metadata": {},
     "output_type": "execute_result"
    }
   ],
   "source": [
    "df.head()"
   ]
  },
  {
   "cell_type": "markdown",
   "metadata": {},
   "source": [
    "## Procesamiento variables categóricas (encoding)"
   ]
  },
  {
   "cell_type": "markdown",
   "metadata": {},
   "source": [
    "La implementación de *scikit-learn* no admite variables categóricas aún en los algoritmos que teóricamente podrían manejarlas. En nuestra base de datos tenemos varias variables categóricas, para resolver este problema utilizaremos la técnica de [One-Hot-Encoding](https://www.brutalk.com/es/noticias/brutalk-blog/ver/por-que-one-hot-encode-data-en-machine-learning-60471b11bb4df). Para ello utilizamos primero la función **Label Encoder**, para hacer una codificación con enteros (donde a cada categoría se le asigna un entero) y luego cada una de estas categorías pasará a ser una columna de la base de datos cuyos campos son binarios (1 si la persona en el índice correspondiente está en esa categoría y 0 si no), con la función **OneHotEncoder**. Previo a todo esto utilizamos el atributo de pandas **select_dtypes** para reconocer las variables categóricas y numéricas. Por último guardamos las variables categóricas ya procesadas en un nuevo dataframe que llamaremos \"enc_df\"."
   ]
  },
  {
   "cell_type": "code",
   "execution_count": 4,
   "metadata": {},
   "outputs": [],
   "source": [
    "X = df.drop(columns=target) # Features\n",
    "y = df[target] # Target variable\n",
    "\n",
    "numerical = X.select_dtypes(include=np.number)\n",
    "categorical = X.select_dtypes(exclude=np.number)\n",
    "\n",
    "X_lenc = X.copy() \n",
    "dict_list = {}\n",
    "labelencoder = LabelEncoder() # creating instance of labelencoder\n",
    "for col in categorical:\n",
    "    X_lenc[col] = labelencoder.fit_transform(X_lenc[col])\n",
    "    dict_list[col] = dict(zip(X_lenc[col],X[col]))\n",
    "# creating instance of one-hot-encoder\n",
    "enc = OneHotEncoder()\n",
    "enc_df = pd.DataFrame()\n",
    "for col in categorical:\n",
    "    temp = pd.DataFrame(enc.fit_transform(X_lenc[[col]]).toarray())\n",
    "    temp.rename(columns=dict(zip(list(range(len(temp.columns))),[str(col)+'_'+str(dict_list[col][i]) for i in list(range(len(temp.columns)))])),inplace=True)\n",
    "    enc_df = pd.concat([enc_df,temp],axis=1)"
   ]
  },
  {
   "cell_type": "code",
   "execution_count": null,
   "metadata": {},
   "outputs": [],
   "source": []
  },
  {
   "cell_type": "markdown",
   "metadata": {},
   "source": [
    "## Procesamiento variables continuas (escalamiento)\n",
    "\n",
    "Las variables continuas pueden tener una escala muy diferente, lo cual puede afectar la precisión y eficacia del modelo, por lo que aplicaremos el escalamiento que vimos previamente. Seguidamente agregamos las variables continuas a \"enc_df\"."
   ]
  },
  {
   "cell_type": "code",
   "execution_count": 5,
   "metadata": {},
   "outputs": [],
   "source": [
    "scale= StandardScaler()\n",
    "scaled_numerical = scale.fit_transform(numerical)\n",
    "numerical = pd.DataFrame(scaled_numerical,columns=numerical.columns)"
   ]
  },
  {
   "cell_type": "code",
   "execution_count": 6,
   "metadata": {},
   "outputs": [],
   "source": [
    "enc_df = pd.concat([enc_df,numerical], axis=1)"
   ]
  },
  {
   "cell_type": "code",
   "execution_count": null,
   "metadata": {},
   "outputs": [],
   "source": []
  },
  {
   "cell_type": "markdown",
   "metadata": {},
   "source": [
    "## Modelos\n",
    "\n",
    "A continuación utilizaremos la implementación de *scikit-learn* de los modelos de clasificación que vimos anterioremente para predecir la variable objetivo y compararemos su precisión con la métrica que también vimos en la presentación."
   ]
  },
  {
   "cell_type": "markdown",
   "metadata": {},
   "source": [
    "### Regresión Logística \n",
    "\n",
    "El primer modelo que utilizaremos es la [regresión logística], usualmente este método predice variables objetivo binarias, sin embargo existe una versión [multinomial](https://en.wikipedia.org/wiki/Multinomial_logistic_regression) que permite predecir variables objetivo categóricas, con más de dos valores posibles. Implementaremos ambas de la siguiente forma. \n",
    "Nuestra variable objetivo tiene cuatro valores, 'Alto', 'Medio alto', 'Medio bajo' y 'Bajo'. Para la implementación de la regresión logística usual haremos esta variable binaria tomando los valores alto y medio alto como 1 y los valores bajo y medio bajo como 0. Y para la implementación de la regresión logística multinomial reemplazaremos 'Alto', 'Medio alto', 'Medio bajo' y 'Bajo' por 3,2,1 y 0 respectivamente.    "
   ]
  },
  {
   "cell_type": "code",
   "execution_count": 7,
   "metadata": {},
   "outputs": [
    {
     "name": "stdout",
     "output_type": "stream",
     "text": [
      "Accuracy: 0.8377048559857689\n"
     ]
    }
   ],
   "source": [
    "y_bin = y.replace(['Medio alto','Medio bajo','Bajo','Alto'],[1,0,0,1])\n",
    "X = enc_df.copy()\n",
    "X.fillna(0,inplace=True)\n",
    "X_train, X_test, y_train, y_test = train_test_split(X, y_bin, test_size=0.3, random_state=1)\n",
    "\n",
    "log = LogisticRegression()\n",
    "log = log.fit(X_train,y_train)\n",
    "log_pred = log.predict(X_test)\n",
    "print(\"Accuracy:\",metrics.accuracy_score(y_test, log_pred))"
   ]
  },
  {
   "cell_type": "code",
   "execution_count": 8,
   "metadata": {},
   "outputs": [],
   "source": [
    "y = df[target]\n",
    "y = y.replace(['Medio alto','Medio bajo','Bajo','Alto'],[2,1,0,3])\n",
    "X_train, X_test, y_train, y_test = train_test_split(X, y, test_size=0.3, random_state=1)"
   ]
  },
  {
   "cell_type": "code",
   "execution_count": 9,
   "metadata": {},
   "outputs": [
    {
     "name": "stdout",
     "output_type": "stream",
     "text": [
      "Accuracy: 0.673479429241891\n"
     ]
    }
   ],
   "source": [
    "log = LogisticRegression(multi_class='multinomial')\n",
    "log = log.fit(X_train,y_train)\n",
    "log_pred = log.predict(X_test)\n",
    "print(\"Accuracy:\",metrics.accuracy_score(y_test, log_pred))"
   ]
  },
  {
   "cell_type": "markdown",
   "metadata": {},
   "source": [
    "### Decision trees "
   ]
  },
  {
   "cell_type": "code",
   "execution_count": 12,
   "metadata": {},
   "outputs": [
    {
     "name": "stdout",
     "output_type": "stream",
     "text": [
      "Accuracy: 0.5680330040498088\n"
     ]
    }
   ],
   "source": [
    "dct = tree.DecisionTreeClassifier()\n",
    "dct = dct.fit(X_train, y_train)\n",
    "dct_pred = dct.predict((X_test))\n",
    "print(\"Accuracy:\",metrics.accuracy_score(y_test, dct_pred))"
   ]
  },
  {
   "cell_type": "markdown",
   "metadata": {},
   "source": [
    "### Random Forest"
   ]
  },
  {
   "cell_type": "code",
   "execution_count": 13,
   "metadata": {},
   "outputs": [
    {
     "name": "stdout",
     "output_type": "stream",
     "text": [
      "Accuracy: 0.6622762196737444\n"
     ]
    }
   ],
   "source": [
    "rfc = RandomForestClassifier().fit(X_train,y_train)\n",
    "rfc_pred =  rfc.predict(X_test) \n",
    "print(\"Accuracy:\",metrics.accuracy_score(y_test, rfc_pred))"
   ]
  },
  {
   "cell_type": "code",
   "execution_count": null,
   "metadata": {},
   "outputs": [],
   "source": []
  },
  {
   "cell_type": "code",
   "execution_count": null,
   "metadata": {},
   "outputs": [],
   "source": []
  },
  {
   "cell_type": "markdown",
   "metadata": {},
   "source": [
    "## Resultados e interpretación  "
   ]
  },
  {
   "cell_type": "code",
   "execution_count": null,
   "metadata": {},
   "outputs": [],
   "source": []
  },
  {
   "cell_type": "code",
   "execution_count": null,
   "metadata": {},
   "outputs": [],
   "source": []
  },
  {
   "cell_type": "code",
   "execution_count": null,
   "metadata": {},
   "outputs": [],
   "source": []
  }
 ],
 "metadata": {
  "kernelspec": {
   "display_name": "Python 3",
   "language": "python",
   "name": "python3"
  },
  "language_info": {
   "codemirror_mode": {
    "name": "ipython",
    "version": 3
   },
   "file_extension": ".py",
   "mimetype": "text/x-python",
   "name": "python",
   "nbconvert_exporter": "python",
   "pygments_lexer": "ipython3",
   "version": "3.8.5"
  }
 },
 "nbformat": 4,
 "nbformat_minor": 4
}
